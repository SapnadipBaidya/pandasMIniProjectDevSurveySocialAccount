{
 "cells": [
  {
   "cell_type": "code",
   "execution_count": 54,
   "id": "a233dacc",
   "metadata": {},
   "outputs": [
    {
     "name": "stdout",
     "output_type": "stream",
     "text": [
      "most used social media is Reddit with user base of 20.899424786473766%\n"
     ]
    }
   ],
   "source": [
    "import pandas as pd\n",
    "import numpy as np\n",
    "\n",
    "df_schema = pd.read_csv('survey_results_public.csv')\n",
    "pd.set_option('display.max_columns', None)\n",
    "df_schema.sample(10)\n",
    "\n",
    "# countries = [' United States of America','Australia','Germany','India']\n",
    "# filtC = df_schema['Country'].isin(countries)\n",
    "# df_schema.loc[filtC].sample(10)\n",
    "# filtL =df_schema['LanguageWorkedWith'].str.contains('Kotlin',na=False)\n",
    "# df_schema.loc[filtL,'LanguageWorkedWith']\n",
    "# df_schema['ConvertedComp'].head(15).describe()\n",
    "# df_schema['ConvertedComp'].median()\n",
    "grp_country=df_schema.groupby(['Country'])\n",
    "counrtyGRP=grp_country.get_group('United Kingdom')\n",
    "total_responds = counrtyGRP['Respondent'].count()\n",
    "total_responds\n",
    "Social_media=counrtyGRP['SocialMedia']\n",
    "maxCountSM=Social_media.value_counts()\n",
    "name =maxCountSM.index[0]\n",
    "\n",
    "\n",
    "num=maxCountSM[0]\n",
    "type(num)\n",
    "totalPerct=(num/total_responds)*100\n",
    "totalPerct\n",
    "print(f'most used social media is {name} with user base of {totalPerct}%')\n"
   ]
  }
 ],
 "metadata": {
  "kernelspec": {
   "display_name": "Python 3 (ipykernel)",
   "language": "python",
   "name": "python3"
  },
  "language_info": {
   "codemirror_mode": {
    "name": "ipython",
    "version": 3
   },
   "file_extension": ".py",
   "mimetype": "text/x-python",
   "name": "python",
   "nbconvert_exporter": "python",
   "pygments_lexer": "ipython3",
   "version": "3.9.7"
  }
 },
 "nbformat": 4,
 "nbformat_minor": 5
}
